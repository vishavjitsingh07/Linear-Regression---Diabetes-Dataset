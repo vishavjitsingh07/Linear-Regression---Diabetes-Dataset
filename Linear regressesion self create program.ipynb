{
 "cells": [
  {
   "cell_type": "code",
   "execution_count": 1,
   "metadata": {},
   "outputs": [],
   "source": [
    "import numpy as np\n",
    "import matplotlib.pyplot as plt\n",
    "from sklearn import model_selection as ms\n",
    "from sklearn.linear_model import LinearRegression as LR"
   ]
  },
  {
   "cell_type": "code",
   "execution_count": 2,
   "metadata": {},
   "outputs": [],
   "source": [
    "data = np.loadtxt(\"data.csv\", delimiter = \",\")"
   ]
  },
  {
   "cell_type": "code",
   "execution_count": 3,
   "metadata": {},
   "outputs": [],
   "source": [
    "x_ = data[:, 0]\n",
    "y_ = data[:, 1]\n",
    "x = x_.reshape(-1, 1)\n",
    "y = y_.reshape(-1, 1)"
   ]
  },
  {
   "cell_type": "markdown",
   "metadata": {},
   "source": [
    "___test_size___ :- change the fraction of test to train data it must be in between 0 to 1"
   ]
  },
  {
   "cell_type": "code",
   "execution_count": 4,
   "metadata": {},
   "outputs": [],
   "source": [
    "x_train, x_test, y_train, y_test = ms.train_test_split(x, y, test_size = .30)"
   ]
  },
  {
   "cell_type": "code",
   "execution_count": 5,
   "metadata": {},
   "outputs": [],
   "source": [
    "def myfit(x, y):\n",
    "    m = ((x*y).mean() - x.mean()*y.mean())/((x**2).mean() - (x.mean())**2)\n",
    "    c = y.mean() - m*x.mean()\n",
    "    return m, c"
   ]
  },
  {
   "cell_type": "code",
   "execution_count": 6,
   "metadata": {},
   "outputs": [],
   "source": [
    "def mypred(x, y, c):\n",
    "    return m*x + c"
   ]
  },
  {
   "cell_type": "code",
   "execution_count": 7,
   "metadata": {},
   "outputs": [],
   "source": [
    "def myscore(y_pred, y_actual):\n",
    "    u = ((y_actual - y_pred)**2).sum()\n",
    "    v = ((y_actual - y_actual.mean())**2).sum()\n",
    "    return 1-u/v"
   ]
  },
  {
   "cell_type": "code",
   "execution_count": 8,
   "metadata": {},
   "outputs": [],
   "source": [
    "def mycost(x, y, m, c): #average cost of data Final cost can calculate by using sum instead of mean\n",
    "    return ((y - m*x - c)**2).mean()"
   ]
  },
  {
   "cell_type": "code",
   "execution_count": 9,
   "metadata": {},
   "outputs": [
    {
     "name": "stdout",
     "output_type": "stream",
     "text": [
      "M 1.2755712351522912\n",
      "C 10.314053363607123\n",
      "Score Test 0.636827619616759\n",
      "Score Train 0.5767990380564871\n",
      "Average Cost of Train data 110.4889078425035\n",
      "Average Cost of Test data 110.40827239043895\n"
     ]
    }
   ],
   "source": [
    "m, c = myfit(x_train, y_train)\n",
    "print(\"M\", m)\n",
    "print(\"C\", c)\n",
    "y_test_predict = mypred(x_test, y, c)\n",
    "y_train_predict = mypred(x_train, y, c)\n",
    "\n",
    "score_train = myscore(y_train_predict, y_train)\n",
    "score_test = myscore(y_test_predict, y_test)\n",
    "print(\"Score Test\", score_test)\n",
    "print(\"Score Train\", score_train)\n",
    "print(\"Average Cost of Train data\", mycost(x_train, y_train, m, c))\n",
    "print(\"Average Cost of Test data\", mycost(x_test, y_test, m, c))"
   ]
  },
  {
   "cell_type": "markdown",
   "metadata": {},
   "source": [
    "#### Score by linear Regression in built functions for same x and y"
   ]
  },
  {
   "cell_type": "code",
   "execution_count": 10,
   "metadata": {},
   "outputs": [
    {
     "name": "stdout",
     "output_type": "stream",
     "text": [
      "M 1.2755712351523045\n",
      "C 10.314053363606483\n",
      "LR Train Score 0.5767990380564871\n",
      "LR test Score 0.6368276196167604\n"
     ]
    }
   ],
   "source": [
    "algo1 = LR() #Algo 1 is liner regression\n",
    "algo1.fit(x_train, y_train) #Data get trained\n",
    "M = algo1.coef_[0][0] #slope of line\n",
    "C = algo1.intercept_[0] #intercept of line\n",
    "print(\"M\", M)\n",
    "print(\"C\", C)\n",
    "print(\"LR Train Score\", algo1.score(x_train, y_train))\n",
    "print(\"LR test Score\", algo1.score(x_test, y_test))"
   ]
  }
 ],
 "metadata": {
  "kernelspec": {
   "display_name": "Python 3",
   "language": "python",
   "name": "python3"
  },
  "language_info": {
   "codemirror_mode": {
    "name": "ipython",
    "version": 3
   },
   "file_extension": ".py",
   "mimetype": "text/x-python",
   "name": "python",
   "nbconvert_exporter": "python",
   "pygments_lexer": "ipython3",
   "version": "3.8.5"
  }
 },
 "nbformat": 4,
 "nbformat_minor": 4
}
